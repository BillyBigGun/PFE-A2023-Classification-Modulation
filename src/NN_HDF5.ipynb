{
 "cells": [
  {
   "cell_type": "markdown",
   "id": "c0076255-ab00-49c7-956c-b39c655d5574",
   "metadata": {},
   "source": [
    "# Testing neural network"
   ]
  },
  {
   "cell_type": "markdown",
   "id": "4f453cb2-ef70-4879-bdd8-bc9849426fce",
   "metadata": {},
   "source": [
    "## Init"
   ]
  },
  {
   "cell_type": "code",
   "execution_count": 1,
   "id": "29a14f4b-23af-464c-8905-eba6a6a7ae8b",
   "metadata": {},
   "outputs": [],
   "source": [
    "import sys\n",
    "import os\n",
    "import matplotlib.pyplot as plt\n",
    "sys.path.append(\"neural_network\")\n",
    "from trainer import Trainer\n",
    "from nn_model import NNModel\n",
    "from ann_model import ANNModel\n",
    "from cnn_model import CNNModel\n",
    "from t_cnn_model import TCNModel\n",
    "from hyperparameter_manager import HyperparameterManager\n",
    "from waveform_batch_manager import WaveformBatchManagerHDF5\n",
    "import nn_transforms\n",
    "\n",
    "import datetime\n",
    "import pandas as pd\n",
    "import numpy as np\n",
    "\n",
    "param_manager = HyperparameterManager()"
   ]
  },
  {
   "cell_type": "markdown",
   "id": "1382a1a5-6005-424a-b4bf-6aaba6e0d322",
   "metadata": {},
   "source": [
    "## ANN model"
   ]
  },
  {
   "cell_type": "markdown",
   "id": "b9faa56f-b518-46aa-ae86-c662b44de1c5",
   "metadata": {},
   "source": [
    "### Init"
   ]
  },
  {
   "cell_type": "code",
   "execution_count": 2,
   "id": "7fd3fe22-68e0-4846-98fb-a45479b73383",
   "metadata": {},
   "outputs": [],
   "source": [
    "parameters_ANN = param_manager.get_ann_parameters()\n",
    "train_set = WaveformBatchManagerHDF5('../data/raw/DatasetOnline/Modulation_4ASK_BPSK_QPSK.hdf5', ['4ASK','BPSK','QPSK'], 128)\n",
    "\n",
    "trainer_ann = Trainer(ANNModel, parameters_ANN, train_set=train_set, batch_size_=32, num_workers_=2)"
   ]
  },
  {
   "cell_type": "markdown",
   "id": "e0aaf7cc-22c4-4be3-912f-1b92727c035e",
   "metadata": {},
   "source": [
    "#### Train"
   ]
  },
  {
   "cell_type": "code",
   "execution_count": 7,
   "id": "aaad1bba-f02d-4bf0-8081-79babe0520c3",
   "metadata": {},
   "outputs": [
    {
     "name": "stdout",
     "output_type": "stream",
     "text": [
      "14724\n",
      "Finished evaluation in 6.71309161 seconds\n",
      "Accuracy : 0.0\n"
     ]
    }
   ],
   "source": [
    "trainer_ann.eval()"
   ]
  },
  {
   "cell_type": "code",
   "execution_count": 3,
   "id": "45443090-6243-4b62-bb65-5f3a52ed1886",
   "metadata": {},
   "outputs": [
    {
     "name": "stdout",
     "output_type": "stream",
     "text": [
      "[1,  1000] loss: 0.665\n",
      "[1,  2000] loss: 0.565\n",
      "[1,  3000] loss: 0.556\n"
     ]
    },
    {
     "name": "stderr",
     "output_type": "stream",
     "text": [
      "\n",
      "KeyboardInterrupt\n",
      "\n"
     ]
    }
   ],
   "source": [
    "loss_per_epoch = trainer_ann.train(20)"
   ]
  },
  {
   "cell_type": "code",
   "execution_count": 6,
   "id": "df639be5-fb8b-4d35-97ab-a240e64579df",
   "metadata": {},
   "outputs": [
    {
     "name": "stdout",
     "output_type": "stream",
     "text": [
      "[0.57575032 0.4229227  0.35684807 0.34611767 0.33794553 0.33456618\n",
      " 0.33085053 0.32208924 0.30811652 0.28687986 0.2697212  0.25535789\n",
      " 0.24418356 0.23315039 0.22607056 0.21943491 0.21489946 0.21032112\n",
      " 0.20887313 0.20507478]\n"
     ]
    }
   ],
   "source": [
    "# export loss to csv\n",
    "loss_per_epoch_np = np.array(loss_per_epoch)\n",
    "\n",
    "DF = pd.DataFrame(loss_per_epoch_np)\n",
    "DF.to_csv(\"data1.csv\")"
   ]
  },
  {
   "cell_type": "markdown",
   "id": "8bede5fa-e63e-4751-b21b-493ffd04d910",
   "metadata": {},
   "source": [
    "### Eval Model for each SNR"
   ]
  },
  {
   "cell_type": "markdown",
   "id": "2cc3f909-87c5-4f81-8b4f-dd9ef19ef5b7",
   "metadata": {
    "jp-MarkdownHeadingCollapsed": true
   },
   "source": [
    "#### Load model"
   ]
  },
  {
   "cell_type": "code",
   "execution_count": null,
   "id": "88a1f610-687c-46fa-a4d9-bdbea1b9139d",
   "metadata": {},
   "outputs": [],
   "source": [
    "ABS_PATH = '~/School/PFE/PFE-A2023-Classification-Modulation/data/nn/ANN'\n",
    "dir_path = os.path.expanduser(ABS_PATH)\n",
    "file_name = ''\n",
    "full_path = os.path.join(dir_path, file_name)\n",
    "print(full_path)\n",
    "\n",
    "trainer_ann.load_model(file_name, dir_path)"
   ]
  },
  {
   "cell_type": "markdown",
   "id": "84704731-a843-47b4-a91f-713a8c1bc00e",
   "metadata": {},
   "source": [
    "#### Eval"
   ]
  },
  {
   "cell_type": "code",
   "execution_count": 15,
   "id": "ee6af4a0-6874-483b-862a-684cdab1fb23",
   "metadata": {},
   "outputs": [
    {
     "name": "stdout",
     "output_type": "stream",
     "text": [
      "[0.7265625, 0.828125, 0.85, 0.90625, 0.9203125, 0.928125, 0.95, 0.9546875, 0.9515625, 0.953125, 0.9453125, 0.940625]\n"
     ]
    }
   ],
   "source": [
    "snrs= range(-2, 22, 2)\n",
    "accuracy_ann = []\n",
    "for snr in snrs:\n",
    "    total_accuracy = 0\n",
    "    nb_it = 20\n",
    "    for i in range(nb_it):\n",
    "        total_accuracy += trainer_ann.eval_by_snr(snr)\n",
    "    average_accuracy = total_accuracy/nb_it\n",
    "    accuracy_ann.append(average_accuracy)\n",
    "\n",
    "print(accuracy_ann)"
   ]
  },
  {
   "cell_type": "code",
   "execution_count": 19,
   "id": "f2025d70-6a4c-43e2-a95e-9e4657672f3f",
   "metadata": {},
   "outputs": [],
   "source": [
    "accuracy = np.array(accuracy_ann)\n",
    "DF = pd.DataFrame(accuracy)\n",
    "DF.to_csv(\"data1.csv\")"
   ]
  },
  {
   "cell_type": "markdown",
   "id": "4fabc462-9c42-41f3-9f38-dfa5cd2817b0",
   "metadata": {},
   "source": [
    "#### Plot"
   ]
  },
  {
   "cell_type": "code",
   "execution_count": 16,
   "id": "0d402219-8e24-4a65-bda0-2efff206b18f",
   "metadata": {},
   "outputs": [
    {
     "data": {
      "text/plain": [
       "[<matplotlib.lines.Line2D at 0x7fd4ec7902e0>]"
      ]
     },
     "execution_count": 16,
     "metadata": {},
     "output_type": "execute_result"
    },
    {
     "data": {
      "image/png": "[encoded data removed]",
      "text/plain": [
       "<Figure size 640x480 with 1 Axes>"
      ]
     },
     "metadata": {},
     "output_type": "display_data"
    }
   ],
   "source": [
    "plt.plot(snrs, accuracy_ann, color=\"blue\")"
   ]
  },
  {
   "cell_type": "markdown",
   "id": "43bcb902-12ba-4c32-9c30-b7fe66c011f0",
   "metadata": {},
   "source": [
    "### Save Model"
   ]
  },
  {
   "cell_type": "code",
   "execution_count": 17,
   "id": "0cfb2ebd-c062-4fe3-b854-4db2a34dc12f",
   "metadata": {},
   "outputs": [
    {
     "name": "stdout",
     "output_type": "stream",
     "text": [
      "/home/will/School/PFE/PFE-A2023-Classification-Modulation/data/nn/ANN/20231203_164814.pt\n"
     ]
    }
   ],
   "source": [
    "ABS_PATH = '~/School/PFE/PFE-A2023-Classification-Modulation/data/nn/ANN'\n",
    "dir_path = os.path.expanduser(ABS_PATH)\n",
    "timestamp = datetime.datetime.now().strftime(\"%Y%m%d_%H%M%S\")\n",
    "file_name = f'{timestamp}.pt'\n",
    "full_path = os.path.join(dir_path, file_name)\n",
    "print(full_path)\n",
    "\n",
    "trainer_ann.save_model(file_name, dir_path)"
   ]
  },
  {
   "cell_type": "markdown",
   "id": "a85f4d6a-73c2-4bf8-bcc1-db967b108c18",
   "metadata": {},
   "source": [
    "## CNN model"
   ]
  },
  {
   "cell_type": "markdown",
   "id": "bd9d1ccd-9c1a-4adf-b786-02571c96cb06",
   "metadata": {},
   "source": [
    "### Init"
   ]
  },
  {
   "cell_type": "code",
   "execution_count": 36,
   "id": "592e3b8b-1eac-4e5d-954e-d51c28dbc71d",
   "metadata": {},
   "outputs": [],
   "source": [
    "parameters_CNN = param_manager.get_cnn_parameters_1d(nb_filter_cnn_A=12,nb_layer_A=3, nb_filter_cnn_B=16, nb_layer_B=5, nb_filter_cnn_C=16, nb_layer_C = 7, learning_rate=0.0005)\n",
    "transform = nn_transforms.get_transform_to_2d()\n",
    "\n",
    "train_set = WaveformBatchManagerHDF5('../data/raw/DatasetOnline/Modulation_4ASK_BPSK_QPSK.hdf5', ['4ASK','BPSK','QPSK'], 128, transform=transform)\n",
    "\n",
    "trainer_cnn = Trainer(CNNModel, parameters_CNN, train_set=train_set, batch_size_=32, num_workers_=2, transform_ = transform)"
   ]
  },
  {
   "cell_type": "markdown",
   "id": "9647b27d-7b97-46a1-a4f5-7edf0dbfdf54",
   "metadata": {},
   "source": [
    "#### Train"
   ]
  },
  {
   "cell_type": "code",
   "execution_count": 37,
   "id": "aef1c95b-08d1-418e-aaad-88ee0ea21f88",
   "metadata": {},
   "outputs": [
    {
     "name": "stdout",
     "output_type": "stream",
     "text": [
      "14724\n",
      "Accuracy : 0.0\n"
     ]
    }
   ],
   "source": [
    "trainer_cnn.eval()"
   ]
  },
  {
   "cell_type": "code",
   "execution_count": 38,
   "id": "8319ed44-8982-4adc-aebe-d83f9b666476",
   "metadata": {},
   "outputs": [
    {
     "name": "stdout",
     "output_type": "stream",
     "text": [
      "[1,  1000] loss: 1.012\n",
      "[1,  2000] loss: 0.731\n",
      "[1,  3000] loss: 0.633\n",
      "[1,  4000] loss: 0.587\n",
      "Epoch 1 completed in 177.14 seconds\n",
      "Loss=0.7348287288384292; Accuracy=59.8113093802749\n",
      "[2,  1000] loss: 0.551\n",
      "[2,  2000] loss: 0.516\n",
      "[2,  3000] loss: 0.482\n",
      "[2,  4000] loss: 0.463\n",
      "Epoch 2 completed in 178.14 seconds\n",
      "Loss=0.5015105441704928; Accuracy=76.36393778635158\n",
      "[3,  1000] loss: 0.444\n",
      "[3,  2000] loss: 0.427\n",
      "[3,  3000] loss: 0.421\n",
      "[3,  4000] loss: 0.406\n",
      "Epoch 3 completed in 183.74 seconds\n",
      "Loss=0.4235215095445165; Accuracy=81.47832770677599\n",
      "[4,  1000] loss: 0.392\n",
      "[4,  2000] loss: 0.389\n",
      "[4,  3000] loss: 0.385\n",
      "[4,  4000] loss: 0.377\n",
      "Epoch 4 completed in 188.39 seconds\n",
      "Loss=0.38533697843062953; Accuracy=83.12560284543044\n",
      "[5,  1000] loss: 0.366\n",
      "[5,  2000] loss: 0.364\n",
      "[5,  3000] loss: 0.358\n",
      "[5,  4000] loss: 0.351\n",
      "Epoch 5 completed in 180.39 seconds\n",
      "Loss=0.3604767753639105; Accuracy=84.27703761755485\n",
      "[6,  1000] loss: 0.341\n",
      "[6,  2000] loss: 0.331\n",
      "[6,  3000] loss: 0.338\n",
      "[6,  4000] loss: 0.330\n",
      "Epoch 6 completed in 164.03 seconds\n",
      "Loss=0.3349974831673563; Accuracy=85.25063298770195\n",
      "[7,  1000] loss: 0.332\n",
      "[7,  2000] loss: 0.321\n",
      "[7,  3000] loss: 0.327\n",
      "[7,  4000] loss: 0.312\n",
      "Epoch 7 completed in 161.80 seconds\n",
      "Loss=0.3226016533642123; Accuracy=85.5829515312274\n",
      "[8,  1000] loss: 0.307\n",
      "[8,  2000] loss: 0.308\n",
      "[8,  3000] loss: 0.300\n",
      "[8,  4000] loss: 0.307\n",
      "Epoch 8 completed in 158.68 seconds\n",
      "Loss=0.3047183532459149; Accuracy=86.39829997588619\n",
      "[9,  1000] loss: 0.302\n",
      "[9,  2000] loss: 0.290\n",
      "[9,  3000] loss: 0.296\n",
      "[9,  4000] loss: 0.294\n",
      "Epoch 9 completed in 158.49 seconds\n",
      "Loss=0.2953845254631324; Accuracy=86.60025319508078\n",
      "[10,  1000] loss: 0.293\n",
      "[10,  2000] loss: 0.288\n",
      "[10,  3000] loss: 0.290\n",
      "[10,  4000] loss: 0.284\n",
      "Epoch 10 completed in 157.91 seconds\n",
      "Loss=0.2879265190475183; Accuracy=87.02224499638292\n",
      "[11,  1000] loss: 0.282\n",
      "[11,  2000] loss: 0.280\n",
      "[11,  3000] loss: 0.274\n",
      "[11,  4000] loss: 0.274\n",
      "Epoch 11 completed in 162.08 seconds\n",
      "Loss=0.277023924293218; Accuracy=87.31387147335423\n",
      "[12,  1000] loss: 0.273\n",
      "[12,  2000] loss: 0.271\n",
      "[12,  3000] loss: 0.269\n",
      "[12,  4000] loss: 0.269\n",
      "Epoch 12 completed in 179.02 seconds\n",
      "Loss=0.27061017600256676; Accuracy=87.7705268869062\n",
      "[13,  1000] loss: 0.271\n",
      "[13,  2000] loss: 0.272\n",
      "[13,  3000] loss: 0.260\n",
      "[13,  4000] loss: 0.267\n",
      "Epoch 13 completed in 180.20 seconds\n",
      "Loss=0.2672735813628745; Accuracy=87.75846997829757\n",
      "[14,  1000] loss: 0.262\n",
      "[14,  2000] loss: 0.262\n",
      "[14,  3000] loss: 0.261\n",
      "[14,  4000] loss: 0.261\n",
      "Epoch 14 completed in 177.95 seconds\n",
      "Loss=0.2608307128857928; Accuracy=88.04030021702435\n",
      "[15,  1000] loss: 0.255\n",
      "[15,  2000] loss: 0.261\n",
      "[15,  3000] loss: 0.258\n",
      "[15,  4000] loss: 0.259\n",
      "Epoch 15 completed in 176.28 seconds\n",
      "Loss=0.2580121770188525; Accuracy=88.09907764649144\n",
      "[16,  1000] loss: 0.258\n",
      "[16,  2000] loss: 0.256\n",
      "[16,  3000] loss: 0.253\n",
      "[16,  4000] loss: 0.258\n",
      "Epoch 16 completed in 175.77 seconds\n",
      "Loss=0.2569994971404054; Accuracy=88.18272244996383\n",
      "[17,  1000] loss: 0.245\n",
      "[17,  2000] loss: 0.250\n",
      "[17,  3000] loss: 0.247\n",
      "[17,  4000] loss: 0.249\n",
      "Epoch 17 completed in 180.93 seconds\n",
      "Loss=0.24756966135930608; Accuracy=88.64088497709187\n",
      "[18,  1000] loss: 0.249\n",
      "[18,  2000] loss: 0.252\n",
      "[18,  3000] loss: 0.245\n",
      "[18,  4000] loss: 0.242\n",
      "Epoch 18 completed in 184.51 seconds\n",
      "Loss=0.24698682103062614; Accuracy=88.63108873884735\n",
      "[19,  1000] loss: 0.253\n",
      "[19,  2000] loss: 0.241\n",
      "[19,  3000] loss: 0.245\n",
      "[19,  4000] loss: 0.245\n",
      "Epoch 19 completed in 178.00 seconds\n",
      "Loss=0.24628489636727377; Accuracy=88.59265734265735\n",
      "[20,  1000] loss: 0.247\n",
      "[20,  2000] loss: 0.249\n",
      "[20,  3000] loss: 0.238\n",
      "[20,  4000] loss: 0.240\n",
      "Early stopping triggered after 20 epochs\n",
      "Finished Training in 3478.74171686 seconds\n"
     ]
    }
   ],
   "source": [
    "loss_per_epoch = trainer_cnn.train(20)"
   ]
  },
  {
   "cell_type": "code",
   "execution_count": 39,
   "id": "ff93c57f-ad10-46cf-abc8-ffccef63af7f",
   "metadata": {},
   "outputs": [],
   "source": [
    "# export loss to csv\n",
    "loss_per_epoch_np = np.array(loss_per_epoch)\n",
    "\n",
    "DF = pd.DataFrame(loss_per_epoch_np)\n",
    "DF.to_csv(\"data1.csv\")"
   ]
  },
  {
   "cell_type": "markdown",
   "id": "abe11aa5-096f-424b-a1c3-27fcbe52c044",
   "metadata": {},
   "source": [
    "### Eval Model for each SNR"
   ]
  },
  {
   "cell_type": "markdown",
   "id": "d48765e4-dbeb-4e8f-bb7a-7beb57a6eca2",
   "metadata": {
    "jp-MarkdownHeadingCollapsed": true
   },
   "source": [
    "#### Load model"
   ]
  },
  {
   "cell_type": "code",
   "execution_count": 3,
   "id": "38fa3ea7-05d2-4acd-a9c1-1eb13aaf38a2",
   "metadata": {},
   "outputs": [
    {
     "name": "stdout",
     "output_type": "stream",
     "text": [
      "/home/will/School/PFE/PFE-A2023-Classification-Modulation/data/nn/CNN/20231201_113803.pt\n"
     ]
    }
   ],
   "source": [
    "ABS_PATH = '~/School/PFE/PFE-A2023-Classification-Modulation/data/nn/CNN'\n",
    "dir_path = os.path.expanduser(ABS_PATH)\n",
    "file_name = '20231201_113803.pt'\n",
    "full_path = os.path.join(dir_path, file_name)\n",
    "print(full_path)\n",
    "\n",
    "trainer_cnn.load_model(file_name, dir_path)"
   ]
  },
  {
   "cell_type": "markdown",
   "id": "568b70a5-0625-4f9c-a6c6-4d0731c059a9",
   "metadata": {},
   "source": [
    "#### Eval"
   ]
  },
  {
   "cell_type": "code",
   "execution_count": 40,
   "id": "7a16ce15-2066-4f7c-860a-f6f95ac6b32f",
   "metadata": {},
   "outputs": [
    {
     "name": "stdout",
     "output_type": "stream",
     "text": [
      "[0.665625, 0.80625, 0.853125, 0.90625, 0.928125, 0.921875, 0.921875, 0.95, 0.959375, 0.934375, 0.95, 0.93125]\n"
     ]
    }
   ],
   "source": [
    "snrs= range(-2, 22, 2)\n",
    "accuracy_cnn = []\n",
    "for snr in snrs:\n",
    "    total_accuracy = 0\n",
    "    nb_it = 10\n",
    "    for i in range(nb_it):\n",
    "        total_accuracy += trainer_cnn.eval_by_snr(snr)\n",
    "    average_accuracy = total_accuracy/nb_it\n",
    "    accuracy_cnn.append(average_accuracy)\n",
    "\n",
    "print(accuracy_cnn)"
   ]
  },
  {
   "cell_type": "code",
   "execution_count": 41,
   "id": "ed50e335-4c11-4c72-854d-8849113b75ee",
   "metadata": {},
   "outputs": [],
   "source": [
    "accuracy = np.array(accuracy_cnn)\n",
    "DF = pd.DataFrame(accuracy)\n",
    "DF.to_csv(\"data1.csv\")"
   ]
  },
  {
   "cell_type": "markdown",
   "id": "d88714a5-20e4-4d5a-b77c-8beb1766cbb4",
   "metadata": {},
   "source": [
    "#### Plot"
   ]
  },
  {
   "cell_type": "code",
   "execution_count": 5,
   "id": "2313d64e-0518-4b9e-90a3-fcee7b5d7f38",
   "metadata": {},
   "outputs": [
    {
     "data": {
      "text/plain": [
       "[<matplotlib.lines.Line2D at 0x7fd4ed847280>]"
      ]
     },
     "execution_count": 5,
     "metadata": {},
     "output_type": "execute_result"
    },
    {
     "data": {
      "image/png": "[encoded data removed]",
      "text/plain": [
       "<Figure size 640x480 with 1 Axes>"
      ]
     },
     "metadata": {},
     "output_type": "display_data"
    }
   ],
   "source": [
    "plt.plot(snrs, accuracy_arr, color=\"blue\")"
   ]
  },
  {
   "cell_type": "markdown",
   "id": "4a7cdc91-36b6-44e6-af86-0857bbe2c5e6",
   "metadata": {},
   "source": [
    "### Save Model"
   ]
  },
  {
   "cell_type": "code",
   "execution_count": 42,
   "id": "5534067c-a433-4235-9848-115d422ff97e",
   "metadata": {},
   "outputs": [
    {
     "name": "stdout",
     "output_type": "stream",
     "text": [
      "/home/will/School/PFE/PFE-A2023-Classification-Modulation/data/nn/CNN/20231203_211008.pt\n"
     ]
    }
   ],
   "source": [
    "ABS_PATH = '~/School/PFE/PFE-A2023-Classification-Modulation/data/nn/CNN'\n",
    "dir_path = os.path.expanduser(ABS_PATH)\n",
    "timestamp = datetime.datetime.now().strftime(\"%Y%m%d_%H%M%S\")\n",
    "file_name = f'{timestamp}.pt'\n",
    "full_path = os.path.join(dir_path, file_name)\n",
    "print(full_path)\n",
    "\n",
    "trainer_cnn.save_model(file_name, dir_path)"
   ]
  },
  {
   "cell_type": "markdown",
   "id": "44940cf0-6ea2-44b9-b6c8-d29f9fd20920",
   "metadata": {},
   "source": [
    "## TCN Model"
   ]
  },
  {
   "cell_type": "markdown",
   "id": "54226921-0b20-49ee-af07-7e6a3b40bd16",
   "metadata": {},
   "source": [
    "### Init"
   ]
  },
  {
   "cell_type": "code",
   "execution_count": 27,
   "id": "e26f4655-0bb3-47d5-99e8-585ea456f279",
   "metadata": {},
   "outputs": [],
   "source": [
    "num_channels = [12,12,12, 8,8,8,8]\n",
    "parameters_TCNN = param_manager.get_t_cnn_parameters(in_channels=1, num_channels=num_channels, learning_rate=0.0005)\n",
    "transform = nn_transforms.get_transform_t_cnn()\n",
    "train_set = WaveformBatchManagerHDF5('../data/raw/DatasetOnline/Modulation_4ASK_BPSK_QPSK.hdf5', ['4ASK','BPSK','QPSK'], 128, transform=transform)\n",
    "\n",
    "trainer_tcnn = Trainer(TCNModel, parameters_TCNN, train_set=train_set, batch_size_=32, num_workers_=2, transform_=transform)"
   ]
  },
  {
   "cell_type": "markdown",
   "id": "c7867817-e49f-4f9a-a198-78a4f823d23f",
   "metadata": {},
   "source": [
    "#### Train"
   ]
  },
  {
   "cell_type": "code",
   "execution_count": 7,
   "id": "6b0910e1-d617-4110-941f-974e62c63285",
   "metadata": {},
   "outputs": [
    {
     "name": "stdout",
     "output_type": "stream",
     "text": [
      "Finished evaluation in 3.28 seconds\n",
      "Accuracy : 0.0\n"
     ]
    }
   ],
   "source": [
    "trainer_tcnn.eval()"
   ]
  },
  {
   "cell_type": "code",
   "execution_count": 29,
   "id": "20c43ece-e0d3-456a-9ffa-70825f54ea3d",
   "metadata": {},
   "outputs": [
    {
     "name": "stdout",
     "output_type": "stream",
     "text": [
      "[1,  1000] loss: 0.770\n",
      "[1,  2000] loss: 0.598\n",
      "[1,  3000] loss: 0.575\n",
      "[1,  4000] loss: 0.553\n",
      "Epoch 1 completed in 105.09 seconds\n",
      "Loss=0.6213455866741106; Accuracy=65.74782975645044\n",
      "[2,  1000] loss: 0.532\n",
      "[2,  2000] loss: 0.516\n",
      "[2,  3000] loss: 0.504\n",
      "[2,  4000] loss: 0.496\n",
      "Epoch 2 completed in 107.63 seconds\n",
      "Loss=0.5112385767531562; Accuracy=74.17334820352062\n",
      "[3,  1000] loss: 0.486\n",
      "[3,  2000] loss: 0.481\n",
      "[3,  3000] loss: 0.477\n",
      "[3,  4000] loss: 0.469\n",
      "Epoch 3 completed in 110.38 seconds\n",
      "Loss=0.4782585852370942; Accuracy=76.58849770918737\n",
      "[4,  1000] loss: 0.466\n",
      "[4,  2000] loss: 0.462\n",
      "[4,  3000] loss: 0.459\n",
      "[4,  4000] loss: 0.455\n",
      "Epoch 4 completed in 109.03 seconds\n",
      "Loss=0.4603718769803288; Accuracy=77.74596093561611\n",
      "[5,  1000] loss: 0.454\n",
      "[5,  2000] loss: 0.449\n",
      "[5,  3000] loss: 0.448\n",
      "[5,  4000] loss: 0.446\n",
      "Epoch 5 completed in 108.57 seconds\n",
      "Loss=0.4491124780588562; Accuracy=78.62686882083433\n",
      "[6,  1000] loss: 0.442\n",
      "[6,  2000] loss: 0.438\n",
      "[6,  3000] loss: 0.437\n",
      "[6,  4000] loss: 0.437\n",
      "Epoch 6 completed in 107.70 seconds\n",
      "Loss=0.43845030896802223; Accuracy=79.30356281649385\n",
      "[7,  1000] loss: 0.439\n",
      "[7,  2000] loss: 0.434\n",
      "[7,  3000] loss: 0.436\n",
      "[7,  4000] loss: 0.434\n",
      "Epoch 7 completed in 107.98 seconds\n",
      "Loss=0.4351048074287192; Accuracy=79.6381420303834\n",
      "[8,  1000] loss: 0.436\n",
      "[8,  2000] loss: 0.431\n",
      "[8,  3000] loss: 0.429\n",
      "[8,  4000] loss: 0.435\n",
      "Epoch 8 completed in 108.03 seconds\n",
      "Loss=0.4320747107411109; Accuracy=79.83105256812154\n",
      "[9,  1000] loss: 0.433\n",
      "[9,  2000] loss: 0.429\n",
      "[9,  3000] loss: 0.426\n",
      "[9,  4000] loss: 0.422\n",
      "Epoch 9 completed in 115.63 seconds\n",
      "Loss=0.42743627043957017; Accuracy=80.10760790933205\n",
      "[10,  1000] loss: 0.420\n",
      "[10,  2000] loss: 0.423\n",
      "[10,  3000] loss: 0.429\n",
      "[10,  4000] loss: 0.423\n",
      "Epoch 10 completed in 118.74 seconds\n",
      "Loss=0.4236706116988856; Accuracy=80.26057993730407\n",
      "[11,  1000] loss: 0.419\n",
      "[11,  2000] loss: 0.418\n",
      "[11,  3000] loss: 0.427\n",
      "[11,  4000] loss: 0.420\n",
      "Epoch 11 completed in 107.45 seconds\n",
      "Loss=0.42156601633067187; Accuracy=80.4060163973957\n",
      "[12,  1000] loss: 0.420\n",
      "[12,  2000] loss: 0.422\n",
      "[12,  3000] loss: 0.418\n",
      "[12,  4000] loss: 0.421\n",
      "Early stopping triggered after 12 epochs\n",
      "Finished Training in 1314.91642785 seconds\n"
     ]
    },
    {
     "data": {
      "text/plain": [
       "[0.6213455866741106,\n",
       " 0.5112385767531562,\n",
       " 0.4782585852370942,\n",
       " 0.4603718769803288,\n",
       " 0.4491124780588562,\n",
       " 0.43845030896802223,\n",
       " 0.4351048074287192,\n",
       " 0.4320747107411109,\n",
       " 0.42743627043957017,\n",
       " 0.4236706116988856,\n",
       " 0.42156601633067187,\n",
       " 0.42004476573155647]"
      ]
     },
     "execution_count": 29,
     "metadata": {},
     "output_type": "execute_result"
    }
   ],
   "source": [
    "loss_per_epoch = trainer_tcnn.train(20)"
   ]
  },
  {
   "cell_type": "code",
   "execution_count": 31,
   "id": "50d1d8ee-6437-4efa-a648-507aacbd6dc8",
   "metadata": {},
   "outputs": [],
   "source": [
    "# export loss to csv\n",
    "loss_per_epoch_np = np.array(loss_per_epoch)\n",
    "\n",
    "DF = pd.DataFrame(loss_per_epoch_np)\n",
    "DF.to_csv(\"data1.csv\")"
   ]
  },
  {
   "cell_type": "markdown",
   "id": "b6ee06e8-4470-4765-8c51-bf3e5bfb2b4f",
   "metadata": {},
   "source": [
    "### Eval for each SNR"
   ]
  },
  {
   "cell_type": "markdown",
   "id": "2e4f29a6-4f6a-4b39-b895-8431c0fd2733",
   "metadata": {
    "jp-MarkdownHeadingCollapsed": true
   },
   "source": [
    "#### Load Model"
   ]
  },
  {
   "cell_type": "code",
   "execution_count": null,
   "id": "000aa63f-d957-4327-9cf4-72ea62384def",
   "metadata": {},
   "outputs": [],
   "source": [
    "ABS_PATH = '~/School/PFE/PFE-A2023-Classification-Modulation/data/nn/TCN'\n",
    "dir_path = os.path.expanduser(ABS_PATH)\n",
    "file_name = ''\n",
    "full_path = os.path.join(dir_path, file_name)\n",
    "print(full_path)\n",
    "\n",
    "trainer_tcnn.load_model(file_name, dir_path)"
   ]
  },
  {
   "cell_type": "markdown",
   "id": "4eae69a8-9195-4a92-afe1-08d28c9544c2",
   "metadata": {},
   "source": [
    "#### Eval"
   ]
  },
  {
   "cell_type": "code",
   "execution_count": 32,
   "id": "4fb5af9b-60f4-43ad-a331-37246e969027",
   "metadata": {},
   "outputs": [
    {
     "name": "stdout",
     "output_type": "stream",
     "text": [
      "[0.634375, 0.671875, 0.71875, 0.83125, 0.83125, 0.84375, 0.859375, 0.875, 0.84375, 0.86875, 0.853125, 0.846875]\n"
     ]
    }
   ],
   "source": [
    "snrs= range(-2, 22, 2)\n",
    "accuracy_tcn = []\n",
    "for snr in snrs:\n",
    "    total_accuracy = 0\n",
    "    nb_it = 10\n",
    "    for i in range(nb_it):\n",
    "        total_accuracy += trainer_tcnn.eval_by_snr(snr)\n",
    "    average_accuracy = total_accuracy/nb_it\n",
    "    accuracy_tcn.append(average_accuracy)\n",
    "\n",
    "print(accuracy_tcn)"
   ]
  },
  {
   "cell_type": "code",
   "execution_count": 34,
   "id": "29491f8e-22ff-444b-87d7-5a1e9053bcaf",
   "metadata": {},
   "outputs": [],
   "source": [
    "accuracy = np.array(accuracy_tcn)\n",
    "DF = pd.DataFrame(accuracy)\n",
    "DF.to_csv(\"data1.csv\")"
   ]
  },
  {
   "cell_type": "markdown",
   "id": "56750ba6-2ffd-4f66-9ffd-4b22c59e271b",
   "metadata": {},
   "source": [
    "#### Plot"
   ]
  },
  {
   "cell_type": "code",
   "execution_count": 9,
   "id": "a8f74a24-5427-496d-9689-8398b134ee83",
   "metadata": {},
   "outputs": [
    {
     "data": {
      "text/plain": [
       "[<matplotlib.lines.Line2D at 0x7f0bb80f0c70>]"
      ]
     },
     "execution_count": 9,
     "metadata": {},
     "output_type": "execute_result"
    },
    {
     "data": {
      "image/png": "[encoded data removed]",
      "text/plain": [
       "<Figure size 640x480 with 1 Axes>"
      ]
     },
     "metadata": {},
     "output_type": "display_data"
    }
   ],
   "source": [
    "plt.plot(snrs, accuracy_tcn, color=\"blue\")"
   ]
  },
  {
   "cell_type": "markdown",
   "id": "55f0b2b9-dd45-4055-a691-0e34bf0b700e",
   "metadata": {},
   "source": [
    "### Save Model"
   ]
  },
  {
   "cell_type": "code",
   "execution_count": 35,
   "id": "020d46f4-aa9a-4b09-a373-cd92fc2d0801",
   "metadata": {},
   "outputs": [
    {
     "name": "stdout",
     "output_type": "stream",
     "text": [
      "/home/will/School/PFE/PFE-A2023-Classification-Modulation/data/nn/TCN/20231203_185237.pt\n"
     ]
    }
   ],
   "source": [
    "ABS_PATH = '~/School/PFE/PFE-A2023-Classification-Modulation/data/nn/TCN'\n",
    "dir_path = os.path.expanduser(ABS_PATH)\n",
    "timestamp = datetime.datetime.now().strftime(\"%Y%m%d_%H%M%S\")\n",
    "file_name = f'{timestamp}.pt'\n",
    "full_path = os.path.join(dir_path, file_name)\n",
    "print(full_path)\n",
    "\n",
    "trainer_tcnn.save_model(file_name, dir_path)"
   ]
  },
  {
   "cell_type": "code",
   "execution_count": null,
   "id": "39982158-72ea-47c0-aaf4-21be12ff414f",
   "metadata": {},
   "outputs": [],
   "source": []
  }
 ],
 "metadata": {
  "kernelspec": {
   "display_name": "Python 3 (ipykernel)",
   "language": "python",
   "name": "python3"
  },
  "language_info": {
   "codemirror_mode": {
    "name": "ipython",
    "version": 3
   },
   "file_extension": ".py",
   "mimetype": "text/x-python",
   "name": "python",
   "nbconvert_exporter": "python",
   "pygments_lexer": "ipython3",
   "version": "3.10.8"
  }
 },
 "nbformat": 4,
 "nbformat_minor": 5
}
