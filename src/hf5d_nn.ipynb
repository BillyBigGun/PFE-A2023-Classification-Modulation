{
 "cells": [
  {
   "cell_type": "markdown",
   "id": "f0295624-eb9c-4292-a3b2-46e011d64dc8",
   "metadata": {},
   "source": [
    "# Testing NN with hdf5 file"
   ]
  },
  {
   "cell_type": "code",
   "execution_count": 1,
   "id": "77195c26-fa97-45f8-98d8-7318ec93835d",
   "metadata": {},
   "outputs": [],
   "source": [
    "import sys\n",
    "sys.path.append(\"neural_network\")\n",
    "from trainer import Trainer\n",
    "from nn_model import NNModel\n",
    "from ann_model import ANNModel\n",
    "from cnn_model import CNNModel\n",
    "from t_cnn_model import TCNModel\n",
    "from hyperparameter_manager import HyperparameterManager\n",
    "from waveform_batch_manager import WaveformBatchManagerHDF5\n",
    "import nn_transforms\n",
    "\n",
    "param_manager = HyperparameterManager()"
   ]
  },
  {
   "cell_type": "code",
   "execution_count": 2,
   "id": "67735ac8-a100-450b-a707-1a6c79ddcd14",
   "metadata": {},
   "outputs": [],
   "source": [
    "parameters_ANN = param_manager.get_ann_parameters()\n",
    "\n",
    "train_set = WaveformBatchManagerHDF5(\"../data/raw/DatasetOnline/Modulation_4ASK_BPSK_QPSK.hdf5\",['4ASK', 'BPSK', 'QPSK'], 128)\n",
    "trainer_ann = Trainer(ANNModel, parameters_ANN, train_set=train_set, batch_size_=32, num_workers_=2)"
   ]
  },
  {
   "cell_type": "code",
   "execution_count": 3,
   "id": "542e368d-4791-4974-bdbf-79f22e98bcda",
   "metadata": {},
   "outputs": [
    {
     "name": "stdout",
     "output_type": "stream",
     "text": [
      "[1,   500] loss: 1.082\n",
      "[1,  1000] loss: 0.936\n",
      "[1,  1500] loss: 0.889\n",
      "[1,  2000] loss: 0.875\n",
      "[1,  2500] loss: 0.839\n",
      "[1,  3000] loss: 0.818\n",
      "[1,  3500] loss: 0.799\n",
      "[1,  4000] loss: 0.788\n",
      "[1,  4500] loss: 0.764\n",
      "Epoch 1 completed in 71.91 seconds\n",
      "Finished Training in 71.91430163 seconds\n"
     ]
    }
   ],
   "source": [
    "trainer_ann.train(1)"
   ]
  },
  {
   "cell_type": "code",
   "execution_count": 4,
   "id": "05bc02ac-c1db-4da2-bfd1-f31047b9a700",
   "metadata": {},
   "outputs": [
    {
     "name": "stdout",
     "output_type": "stream",
     "text": [
      "Finished evaluation in 90.50876021 seconds\n",
      "Accuracy : 0.75\n"
     ]
    }
   ],
   "source": [
    "trainer_ann.eval()"
   ]
  },
  {
   "cell_type": "code",
   "execution_count": null,
   "id": "9ba2a237-ea30-4eea-a297-9d5a23722932",
   "metadata": {},
   "outputs": [],
   "source": []
  }
 ],
 "metadata": {
  "kernelspec": {
   "display_name": "Python 3 (ipykernel)",
   "language": "python",
   "name": "python3"
  },
  "language_info": {
   "codemirror_mode": {
    "name": "ipython",
    "version": 3
   },
   "file_extension": ".py",
   "mimetype": "text/x-python",
   "name": "python",
   "nbconvert_exporter": "python",
   "pygments_lexer": "ipython3",
   "version": "3.10.8"
  }
 },
 "nbformat": 4,
 "nbformat_minor": 5
}
