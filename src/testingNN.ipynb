{
 "cells": [
  {
   "cell_type": "markdown",
   "id": "c0076255-ab00-49c7-956c-b39c655d5574",
   "metadata": {},
   "source": [
    "# Testing neural network"
   ]
  },
  {
   "cell_type": "code",
   "execution_count": 1,
   "id": "29a14f4b-23af-464c-8905-eba6a6a7ae8b",
   "metadata": {},
   "outputs": [],
   "source": [
    "import sys\n",
    "import os\n",
    "import matplotlib.pyplot as plt\n",
    "sys.path.append(\"neural_network\")\n",
    "from trainer import Trainer\n",
    "from nn_model import NNModel\n",
    "from ann_model import ANNModel\n",
    "from cnn_model import CNNModel\n",
    "from t_cnn_model import TCNModel\n",
    "from hyperparameter_manager import HyperparameterManager\n",
    "from waveform_batch_manager import WaveformBatchManagerHDF5\n",
    "import nn_transforms\n",
    "\n",
    "import datetime\n",
    "\n",
    "param_manager = HyperparameterManager()"
   ]
  },
  {
   "cell_type": "markdown",
   "id": "1382a1a5-6005-424a-b4bf-6aaba6e0d322",
   "metadata": {
    "jp-MarkdownHeadingCollapsed": true
   },
   "source": [
    "## ANN model"
   ]
  },
  {
   "cell_type": "code",
   "execution_count": 2,
   "id": "7fd3fe22-68e0-4846-98fb-a45479b73383",
   "metadata": {},
   "outputs": [],
   "source": [
    "parameters_ANN = param_manager.get_ann_parameters()\n",
    "trainer_ann = Trainer(ANNModel, parameters_ANN, [\"../data/raw/PAM_1_10.23\", \"../data/raw/PWM_1_22.27\"], max_first_row_=1, max_stride_rows_=1, batch_size_=32, num_workers_=2)"
   ]
  },
  {
   "cell_type": "code",
   "execution_count": 3,
   "id": "aaad1bba-f02d-4bf0-8081-79babe0520c3",
   "metadata": {},
   "outputs": [
    {
     "name": "stdout",
     "output_type": "stream",
     "text": [
      "Finished evaluation in 3.04400444 seconds\n",
      "Accuracy : 0.46875\n"
     ]
    }
   ],
   "source": [
    "trainer_ann.eval()"
   ]
  },
  {
   "cell_type": "code",
   "execution_count": 4,
   "id": "45443090-6243-4b62-bb65-5f3a52ed1886",
   "metadata": {},
   "outputs": [
    {
     "name": "stdout",
     "output_type": "stream",
     "text": [
      "[1,    20] loss: 20.067\n",
      "[1,    40] loss: 19.698\n",
      "[1,    60] loss: 17.996\n",
      "[1,    80] loss: 16.828\n",
      "[1,   100] loss: 15.697\n",
      "[1,   120] loss: 13.993\n",
      "[1,   140] loss: 13.466\n",
      "[1,   160] loss: 13.056\n",
      "[1,   180] loss: 11.782\n",
      "[1,   200] loss: 10.827\n",
      "[1,   220] loss: 9.700\n",
      "[1,   240] loss: 9.569\n",
      "[1,   260] loss: 8.818\n",
      "[1,   280] loss: 7.172\n",
      "[1,   300] loss: 7.422\n",
      "[1,   320] loss: 5.879\n",
      "[1,   340] loss: 5.813\n",
      "[1,   360] loss: 5.638\n",
      "[1,   380] loss: 5.374\n",
      "[1,   400] loss: 4.237\n",
      "[1,   420] loss: 4.335\n",
      "[1,   440] loss: 4.923\n",
      "[1,   460] loss: 3.653\n",
      "[1,   480] loss: 3.108\n",
      "[1,   500] loss: 3.502\n",
      "[1,   520] loss: 3.458\n",
      "[1,   540] loss: 3.470\n",
      "[1,   560] loss: 3.070\n",
      "Epoch 1 completed in 27.79 seconds\n",
      "[2,    20] loss: 2.948\n",
      "[2,    40] loss: 2.548\n",
      "[2,    60] loss: 2.501\n",
      "[2,    80] loss: 2.895\n",
      "[2,   100] loss: 2.429\n",
      "[2,   120] loss: 3.147\n",
      "[2,   140] loss: 2.228\n",
      "[2,   160] loss: 2.343\n",
      "[2,   180] loss: 2.672\n",
      "[2,   200] loss: 2.000\n",
      "[2,   220] loss: 1.659\n",
      "[2,   240] loss: 2.255\n",
      "[2,   260] loss: 3.079\n",
      "[2,   280] loss: 1.526\n",
      "[2,   300] loss: 2.208\n",
      "[2,   320] loss: 2.547\n",
      "[2,   340] loss: 1.697\n",
      "[2,   360] loss: 1.601\n",
      "[2,   380] loss: 1.979\n",
      "[2,   400] loss: 1.524\n",
      "[2,   420] loss: 1.572\n",
      "[2,   440] loss: 1.890\n",
      "[2,   460] loss: 1.679\n",
      "[2,   480] loss: 1.598\n",
      "[2,   500] loss: 1.345\n",
      "[2,   520] loss: 1.639\n",
      "[2,   540] loss: 2.308\n",
      "[2,   560] loss: 1.346\n",
      "Epoch 2 completed in 31.36 seconds\n",
      "Finished Training in 59.14349103 seconds\n"
     ]
    }
   ],
   "source": [
    "trainer_ann.train(2)"
   ]
  },
  {
   "cell_type": "code",
   "execution_count": 6,
   "id": "ee6af4a0-6874-483b-862a-684cdab1fb23",
   "metadata": {},
   "outputs": [
    {
     "name": "stdout",
     "output_type": "stream",
     "text": [
      "Finished evaluation in 2.80147004 seconds\n",
      "Accuracy : 1.0\n"
     ]
    }
   ],
   "source": [
    "trainer_ann.eval()"
   ]
  },
  {
   "cell_type": "markdown",
   "id": "a85f4d6a-73c2-4bf8-bcc1-db967b108c18",
   "metadata": {},
   "source": [
    "## CNN model"
   ]
  },
  {
   "cell_type": "code",
   "execution_count": 2,
   "id": "592e3b8b-1eac-4e5d-954e-d51c28dbc71d",
   "metadata": {},
   "outputs": [],
   "source": [
    "parameters_CNN = param_manager.get_cnn_parameters_1d(nb_filter_cnn_A=12,nb_layer_A=3, nb_filter_cnn_B=16, nb_layer_B=5, nb_filter_cnn_C=16, nb_layer_C = 7, learning_rate=0.0005)\n",
    "transform = nn_transforms.get_transform_to_2d()\n",
    "\n",
    "train_set = WaveformBatchManagerHDF5('../data/raw/DatasetOnline/Modulation_4ASK_BPSK_QPSK.hdf5', ['4ASK','BPSK','QPSK'], 128, transform=transform)\n",
    "\n",
    "trainer_cnn = Trainer(CNNModel, parameters_CNN, train_set=train_set, batch_size_=32, num_workers_=2, transform_ = transform)"
   ]
  },
  {
   "cell_type": "code",
   "execution_count": 3,
   "id": "aef1c95b-08d1-418e-aaad-88ee0ea21f88",
   "metadata": {},
   "outputs": [
    {
     "name": "stdout",
     "output_type": "stream",
     "text": [
      "13497\n",
      "Finished evaluation in 8.27101684 seconds\n",
      "Accuracy : 0.25\n"
     ]
    }
   ],
   "source": [
    "trainer_cnn.eval()"
   ]
  },
  {
   "cell_type": "code",
   "execution_count": null,
   "id": "8319ed44-8982-4adc-aebe-d83f9b666476",
   "metadata": {},
   "outputs": [
    {
     "name": "stdout",
     "output_type": "stream",
     "text": [
      "[1,  1000] loss: 0.982\n",
      "[1,  2000] loss: 0.710\n",
      "[1,  3000] loss: 0.609\n",
      "[1,  4000] loss: 0.555\n",
      "Epoch 1 completed in 157.15 seconds\n",
      "Loss=0.706646030965931; Accuracy=64.31757897275139\n",
      "[2,  1000] loss: 0.507\n",
      "[2,  2000] loss: 0.474\n",
      "[2,  3000] loss: 0.457\n",
      "[2,  4000] loss: 0.438\n",
      "Epoch 2 completed in 182.74 seconds\n",
      "Loss=0.4677580410359939; Accuracy=78.71277429467085\n",
      "[3,  1000] loss: 0.421\n",
      "[3,  2000] loss: 0.406\n"
     ]
    }
   ],
   "source": [
    "trainer_cnn.train(12)"
   ]
  },
  {
   "cell_type": "markdown",
   "id": "abe11aa5-096f-424b-a1c3-27fcbe52c044",
   "metadata": {},
   "source": [
    "## Eval Model for each SNR"
   ]
  },
  {
   "cell_type": "code",
   "execution_count": 35,
   "id": "7a16ce15-2066-4f7c-860a-f6f95ac6b32f",
   "metadata": {},
   "outputs": [
    {
     "name": "stdout",
     "output_type": "stream",
     "text": [
      "Finished evaluation in 1.45379257 seconds\n",
      "Accuracy : 0.96875\n"
     ]
    }
   ],
   "source": [
    "snrs= range(-2, 22, 2)\n",
    "accuracy_arr = []\n",
    "for snr in snrs:\n",
    "    total_accuracy = 0\n",
    "    nb_it = 10\n",
    "    for i in range(nb_it):\n",
    "        total_accuracy += trainer_cnn.eval_by_snr(snr)\n",
    "    average_accuracy = total_accuracy/nb_it\n",
    "    accuracy_arr.append(average_accuracy)\n",
    "\n",
    "print(accuracy_arr)"
   ]
  },
  {
   "cell_type": "code",
   "execution_count": null,
   "id": "2313d64e-0518-4b9e-90a3-fcee7b5d7f38",
   "metadata": {},
   "outputs": [],
   "source": [
    "plt.plot(snrs, accuracy_arr, color=\"blue\")"
   ]
  },
  {
   "cell_type": "markdown",
   "id": "4a7cdc91-36b6-44e6-af86-0857bbe2c5e6",
   "metadata": {},
   "source": [
    "## Save Model"
   ]
  },
  {
   "cell_type": "code",
   "execution_count": 6,
   "id": "5534067c-a433-4235-9848-115d422ff97e",
   "metadata": {},
   "outputs": [
    {
     "name": "stdout",
     "output_type": "stream",
     "text": [
      "/home/will/School/PFE/PFE-A2023-Classification-Modulation/data/nn/CNN/20231201_105032.pt\n"
     ]
    }
   ],
   "source": [
    "ABS_PATH = '~/School/PFE/PFE-A2023-Classification-Modulation/data/nn/CNN'\n",
    "dir_path = os.path.expanduser(ABS_PATH)\n",
    "timestamp = datetime.datetime.now().strftime(\"%Y%m%d_%H%M%S\")\n",
    "file_name = f'{timestamp}.pt'\n",
    "full_path = os.path.join(dir_path, file_name)\n",
    "print(full_path)\n",
    "\n",
    "trainer_cnn.save_model(file_name, dir_path)"
   ]
  },
  {
   "cell_type": "markdown",
   "id": "44940cf0-6ea2-44b9-b6c8-d29f9fd20920",
   "metadata": {
    "jp-MarkdownHeadingCollapsed": true
   },
   "source": [
    "## TCN Model"
   ]
  },
  {
   "cell_type": "code",
   "execution_count": 6,
   "id": "e26f4655-0bb3-47d5-99e8-585ea456f279",
   "metadata": {},
   "outputs": [],
   "source": [
    "parameters_TCNN = param_manager.get_t_cnn_parameters(in_channels=1, num_layers=5, num_channels_each_layer=4)\n",
    "transform = nn_transforms.get_transform_t_cnn()\n",
    "\n",
    "trainer_tcnn = Trainer(TCNModel, parameters_TCNN, [\"../data/raw/PAM_1_10.23\", \"../data/raw/PWM_1_22.27\"], max_first_row_=5000, max_stride_rows_=10, batch_size_=32, num_workers_=2, transform_=transform)"
   ]
  },
  {
   "cell_type": "code",
   "execution_count": 7,
   "id": "6b0910e1-d617-4110-941f-974e62c63285",
   "metadata": {},
   "outputs": [
    {
     "name": "stdout",
     "output_type": "stream",
     "text": [
      "Finished evaluation in 3.28 seconds\n",
      "Accuracy : 0.0\n"
     ]
    }
   ],
   "source": [
    "trainer_tcnn.eval()"
   ]
  },
  {
   "cell_type": "code",
   "execution_count": 8,
   "id": "20c43ece-e0d3-456a-9ffa-70825f54ea3d",
   "metadata": {},
   "outputs": [
    {
     "name": "stdout",
     "output_type": "stream",
     "text": [
      "[1,    20] loss: 49.959\n",
      "[1,    40] loss: 47.453\n",
      "[1,    60] loss: 46.015\n",
      "[1,    80] loss: 44.789\n",
      "[1,   100] loss: 42.431\n",
      "[1,   120] loss: 41.169\n",
      "[1,   140] loss: 39.887\n",
      "[1,   160] loss: 37.247\n",
      "[1,   180] loss: 36.258\n",
      "[1,   200] loss: 33.625\n",
      "[1,   220] loss: 32.233\n",
      "[1,   240] loss: 30.626\n",
      "[1,   260] loss: 27.519\n",
      "[1,   280] loss: 24.537\n",
      "[1,   300] loss: 21.634\n",
      "[1,   320] loss: 19.781\n",
      "[1,   340] loss: 17.003\n",
      "[1,   360] loss: 16.618\n",
      "[1,   380] loss: 12.732\n",
      "[1,   400] loss: 12.558\n",
      "[1,   420] loss: 10.089\n",
      "[1,   440] loss: 9.778\n",
      "[1,   460] loss: 8.802\n",
      "[1,   480] loss: 8.087\n",
      "[1,   500] loss: 6.990\n",
      "[1,   520] loss: 6.853\n",
      "[1,   540] loss: 5.569\n",
      "[1,   560] loss: 5.815\n",
      "Epoch 1 completed in 27.83 seconds\n",
      "[2,    20] loss: 4.332\n",
      "[2,    40] loss: 3.971\n",
      "[2,    60] loss: 3.832\n",
      "[2,    80] loss: 3.715\n",
      "[2,   100] loss: 3.583\n",
      "[2,   120] loss: 3.706\n",
      "[2,   140] loss: 2.992\n",
      "[2,   160] loss: 2.523\n",
      "[2,   180] loss: 2.681\n",
      "[2,   200] loss: 2.713\n",
      "[2,   220] loss: 2.350\n",
      "[2,   240] loss: 2.293\n",
      "[2,   260] loss: 2.116\n",
      "[2,   280] loss: 1.796\n",
      "[2,   300] loss: 1.846\n",
      "[2,   320] loss: 1.426\n",
      "[2,   340] loss: 1.573\n",
      "[2,   360] loss: 1.627\n",
      "[2,   380] loss: 1.997\n",
      "[2,   400] loss: 1.450\n",
      "[2,   420] loss: 1.046\n",
      "[2,   440] loss: 1.463\n",
      "[2,   460] loss: 1.187\n",
      "[2,   480] loss: 1.231\n",
      "[2,   500] loss: 1.100\n",
      "[2,   520] loss: 1.420\n",
      "[2,   540] loss: 1.249\n",
      "[2,   560] loss: 1.043\n",
      "Epoch 2 completed in 31.17 seconds\n",
      "Finished Training in 59.00 seconds\n"
     ]
    }
   ],
   "source": [
    "trainer_tcnn.train(2)"
   ]
  },
  {
   "cell_type": "code",
   "execution_count": 9,
   "id": "fda77643-e0d2-412e-a51e-86eb5363b43b",
   "metadata": {},
   "outputs": [
    {
     "name": "stdout",
     "output_type": "stream",
     "text": [
      "Finished evaluation in 4.95 seconds\n",
      "Accuracy : 1.0\n"
     ]
    }
   ],
   "source": [
    "trainer_tcnn.eval()"
   ]
  },
  {
   "cell_type": "code",
   "execution_count": null,
   "id": "eaa2dbf7-6dae-4015-bc57-a8394bbe951f",
   "metadata": {},
   "outputs": [],
   "source": []
  }
 ],
 "metadata": {
  "kernelspec": {
   "display_name": "Python 3 (ipykernel)",
   "language": "python",
   "name": "python3"
  },
  "language_info": {
   "codemirror_mode": {
    "name": "ipython",
    "version": 3
   },
   "file_extension": ".py",
   "mimetype": "text/x-python",
   "name": "python",
   "nbconvert_exporter": "python",
   "pygments_lexer": "ipython3",
   "version": "3.10.8"
  }
 },
 "nbformat": 4,
 "nbformat_minor": 5
}
