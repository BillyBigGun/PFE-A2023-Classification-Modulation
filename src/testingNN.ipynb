{
 "cells": [
  {
   "cell_type": "markdown",
   "id": "c0076255-ab00-49c7-956c-b39c655d5574",
   "metadata": {},
   "source": [
    "# Testing neural network"
   ]
  },
  {
   "cell_type": "code",
   "execution_count": 1,
   "id": "29a14f4b-23af-464c-8905-eba6a6a7ae8b",
   "metadata": {},
   "outputs": [],
   "source": [
    "import sys\n",
    "sys.path.append(\"neural_network\")\n",
    "from trainer import Trainer\n",
    "from nn_model import NNModel\n",
    "from ann_model import ANNModel\n",
    "from cnn_model import CNNModel\n",
    "from t_cnn_model import TCNModel\n",
    "from hyperparameter_manager import HyperparameterManager\n",
    "import nn_transforms\n",
    "\n",
    "param_manager = HyperparameterManager()"
   ]
  },
  {
   "cell_type": "markdown",
   "id": "1382a1a5-6005-424a-b4bf-6aaba6e0d322",
   "metadata": {},
   "source": [
    "## ANN model"
   ]
  },
  {
   "cell_type": "code",
   "execution_count": 8,
   "id": "7fd3fe22-68e0-4846-98fb-a45479b73383",
   "metadata": {},
   "outputs": [],
   "source": [
    "parameters_ANN = param_manager.get_ann_parameters()\n",
    "trainer_ann = Trainer(ANNModel, parameters_ANN, [\"../data/raw/PAM_1_10.23\", \"../data/raw/PWM_1_22.27\"], batch_size_=100, num_workers_=2)"
   ]
  },
  {
   "cell_type": "code",
   "execution_count": 9,
   "id": "aaad1bba-f02d-4bf0-8081-79babe0520c3",
   "metadata": {},
   "outputs": [
    {
     "name": "stdout",
     "output_type": "stream",
     "text": [
      "Accuracy : 0.47\n"
     ]
    }
   ],
   "source": [
    "trainer_ann.eval()"
   ]
  },
  {
   "cell_type": "code",
   "execution_count": 10,
   "id": "45443090-6243-4b62-bb65-5f3a52ed1886",
   "metadata": {},
   "outputs": [
    {
     "name": "stdout",
     "output_type": "stream",
     "text": [
      "[1,    20] loss: 19.432\n",
      "[1,    40] loss: 18.308\n",
      "[1,    60] loss: 17.228\n",
      "[1,    80] loss: 16.336\n",
      "[1,   100] loss: 15.097\n",
      "[1,   120] loss: 13.945\n",
      "[1,   140] loss: 12.411\n",
      "[1,   160] loss: 11.138\n",
      "[1,   180] loss: 9.897\n",
      "[2,    20] loss: 8.652\n",
      "[2,    40] loss: 7.646\n",
      "[2,    60] loss: 6.621\n",
      "[2,    80] loss: 5.961\n",
      "[2,   100] loss: 5.288\n",
      "[2,   120] loss: 4.878\n",
      "[2,   140] loss: 4.567\n",
      "[2,   160] loss: 3.900\n",
      "[2,   180] loss: 3.660\n",
      "Finished Training\n"
     ]
    }
   ],
   "source": [
    "trainer_ann.train(2)"
   ]
  },
  {
   "cell_type": "code",
   "execution_count": 11,
   "id": "ee6af4a0-6874-483b-862a-684cdab1fb23",
   "metadata": {},
   "outputs": [
    {
     "name": "stdout",
     "output_type": "stream",
     "text": [
      "Accuracy : 0.98\n"
     ]
    }
   ],
   "source": [
    "trainer_ann.eval()"
   ]
  },
  {
   "cell_type": "markdown",
   "id": "a85f4d6a-73c2-4bf8-bcc1-db967b108c18",
   "metadata": {},
   "source": [
    "## CNN model"
   ]
  },
  {
   "cell_type": "code",
   "execution_count": 2,
   "id": "592e3b8b-1eac-4e5d-954e-d51c28dbc71d",
   "metadata": {},
   "outputs": [],
   "source": [
    "parameters_CNN = param_manager.get_cnn_parameters_1d(4, 4, 4)\n",
    "transform = nn_transforms.get_transform_to_2d()\n",
    "\n",
    "trainer_cnn = Trainer(CNNModel, parameters_CNN, [\"../data/raw/PAM_1_10.23\", \"../data/raw/PWM_1_22.27\"], batch_size_=32, num_workers_=2, transform_ = transform)"
   ]
  },
  {
   "cell_type": "code",
   "execution_count": 3,
   "id": "aef1c95b-08d1-418e-aaad-88ee0ea21f88",
   "metadata": {},
   "outputs": [
    {
     "name": "stdout",
     "output_type": "stream",
     "text": [
      "Accuracy : 0.46\n"
     ]
    }
   ],
   "source": [
    "trainer_cnn.eval()"
   ]
  },
  {
   "cell_type": "code",
   "execution_count": 6,
   "id": "8319ed44-8982-4adc-aebe-d83f9b666476",
   "metadata": {},
   "outputs": [
    {
     "name": "stdout",
     "output_type": "stream",
     "text": [
      "[1,    20] loss: 12.123\n",
      "[1,    40] loss: 11.778\n",
      "[1,    60] loss: 11.431\n",
      "[1,    80] loss: 10.882\n",
      "[1,   100] loss: 10.944\n",
      "[1,   120] loss: 10.503\n",
      "[1,   140] loss: 10.481\n",
      "[1,   160] loss: 10.280\n",
      "[1,   180] loss: 9.935\n",
      "[2,    20] loss: 9.385\n",
      "[2,    40] loss: 9.226\n",
      "[2,    60] loss: 8.954\n",
      "[2,    80] loss: 8.615\n",
      "[2,   100] loss: 8.239\n",
      "[2,   120] loss: 8.075\n",
      "[2,   140] loss: 7.522\n",
      "[2,   160] loss: 7.369\n",
      "[2,   180] loss: 7.290\n",
      "[3,    20] loss: 6.825\n",
      "[3,    40] loss: 6.585\n",
      "[3,    60] loss: 6.183\n",
      "[3,    80] loss: 5.919\n",
      "[3,   100] loss: 5.721\n",
      "[3,   120] loss: 5.402\n",
      "[3,   140] loss: 5.213\n",
      "[3,   160] loss: 5.107\n",
      "[3,   180] loss: 4.847\n",
      "[4,    20] loss: 4.492\n",
      "[4,    40] loss: 3.993\n",
      "[4,    60] loss: 3.965\n",
      "[4,    80] loss: 3.831\n",
      "[4,   100] loss: 3.925\n",
      "[4,   120] loss: 3.367\n",
      "[4,   140] loss: 3.098\n",
      "[4,   160] loss: 3.227\n",
      "[4,   180] loss: 2.841\n",
      "[5,    20] loss: 2.764\n",
      "[5,    40] loss: 2.512\n",
      "[5,    60] loss: 2.532\n",
      "[5,    80] loss: 2.389\n",
      "[5,   100] loss: 1.989\n",
      "[5,   120] loss: 2.070\n",
      "[5,   140] loss: 1.806\n",
      "[5,   160] loss: 1.778\n",
      "[5,   180] loss: 1.896\n",
      "Finished Training\n"
     ]
    }
   ],
   "source": [
    "trainer_cnn.train(5)"
   ]
  },
  {
   "cell_type": "code",
   "execution_count": 7,
   "id": "7a16ce15-2066-4f7c-860a-f6f95ac6b32f",
   "metadata": {},
   "outputs": [
    {
     "name": "stdout",
     "output_type": "stream",
     "text": [
      "Accuracy : 1.0\n"
     ]
    }
   ],
   "source": [
    "trainer_cnn.eval()"
   ]
  },
  {
   "cell_type": "code",
   "execution_count": null,
   "id": "5534067c-a433-4235-9848-115d422ff97e",
   "metadata": {},
   "outputs": [],
   "source": []
  }
 ],
 "metadata": {
  "kernelspec": {
   "display_name": "Python 3 (ipykernel)",
   "language": "python",
   "name": "python3"
  },
  "language_info": {
   "codemirror_mode": {
    "name": "ipython",
    "version": 3
   },
   "file_extension": ".py",
   "mimetype": "text/x-python",
   "name": "python",
   "nbconvert_exporter": "python",
   "pygments_lexer": "ipython3",
   "version": "3.10.8"
  }
 },
 "nbformat": 4,
 "nbformat_minor": 5
}
