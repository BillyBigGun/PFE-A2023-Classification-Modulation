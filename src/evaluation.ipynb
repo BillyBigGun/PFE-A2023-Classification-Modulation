{
 "cells": [
  {
   "cell_type": "markdown",
   "id": "c4af9775-5e84-400c-8c69-38d5cc0a4f1b",
   "metadata": {},
   "source": [
    "# Evaluation"
   ]
  },
  {
   "cell_type": "markdown",
   "id": "35aa7bf7-0450-422a-b1ef-d00cc3866352",
   "metadata": {},
   "source": [
    "## ANN"
   ]
  },
  {
   "cell_type": "code",
   "execution_count": null,
   "id": "28d2df94-79fa-45e5-b890-c9129c61a1fe",
   "metadata": {},
   "outputs": [],
   "source": [
    "import sys\n",
    "import matplotlib.pyplot as plt\n",
    "sys.path.append(\"neural_network\")\n",
    "from trainer import Trainer\n",
    "from nn_model import NNModel\n",
    "from ann_model import ANNModel\n",
    "from cnn_model import CNNModel\n",
    "from t_cnn_model import TCNModel\n",
    "from hyperparameter_manager import HyperparameterManager\n",
    "import nn_transforms\n",
    "\n",
    "# Paramètres du modèle\n",
    "param_manager = HyperparameterManager()\n",
    "parameters_ANN = param_manager.get_ann_parameters()\n",
    "\n",
    "# Chemin vers les données d'entraînement (tous les SNR)\n",
    "train_data_path = [\"../data/raw/PAM_1_10.23\", \"../data/raw/PWM_1_22.27\"]\n",
    "\n",
    "# Créer une instance du trainer pour l'entraînement\n",
    "trainer_ann = Trainer(ANNModel, parameters_ANN, train_data_path, batch_size_=32, num_workers_=2)\n",
    "\n",
    "# Entraînement du modèle\n",
    "epochs = 10\n",
    "trainer_ann.train(epochs)\n",
    "\n",
    "# Évaluation sur différents niveaux de SNR\n",
    "snr_values = range(-4, 21, 2)  # SNR de -4 à 20\n",
    "evaluation_results = []\n",
    "\n",
    "for snr in snr_values:\n",
    "    # Chemin vers les données de test pour le SNR actuel\n",
    "    test_data_path = f\"../data/test/SNR_{snr}dB\"\n",
    "\n",
    "    # Évaluer le modèle sur les données de test spécifiques au SNR\n",
    "    evaluation_result = trainer_ann.eval(test_data_path)  # Assurez-vous que trainer_ann.eval peut prendre un chemin de données en paramètre\n",
    "    evaluation_results.append(evaluation_result)\n",
    "\n",
    "# Création du graphique\n",
    "plt.plot(list(snr_values), evaluation_results, marker='o')\n",
    "plt.xlabel('SNR')\n",
    "plt.ylabel('Performance du modèle')\n",
    "plt.title('Performance du modèle en fonction du SNR')\n",
    "plt.grid(True)\n",
    "plt.show()\n"
   ]
  }
 ],
 "metadata": {
  "kernelspec": {
   "display_name": "Python 3 (ipykernel)",
   "language": "python",
   "name": "python3"
  },
  "language_info": {
   "codemirror_mode": {
    "name": "ipython",
    "version": 3
   },
   "file_extension": ".py",
   "mimetype": "text/x-python",
   "name": "python",
   "nbconvert_exporter": "python",
   "pygments_lexer": "ipython3",
   "version": "3.10.8"
  }
 },
 "nbformat": 4,
 "nbformat_minor": 5
}
